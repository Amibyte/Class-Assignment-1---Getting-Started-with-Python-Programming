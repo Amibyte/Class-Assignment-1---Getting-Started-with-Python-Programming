{
  "nbformat": 4,
  "nbformat_minor": 0,
  "metadata": {
    "colab": {
      "name": "Q1",
      "provenance": [],
      "authorship_tag": "ABX9TyO4brFoLWH+zWSC04kC8f6z",
      "include_colab_link": true
    },
    "kernelspec": {
      "name": "python3",
      "display_name": "Python 3"
    }
  },
  "cells": [
    {
      "cell_type": "markdown",
      "metadata": {
        "id": "view-in-github",
        "colab_type": "text"
      },
      "source": [
        "<a href=\"https://colab.research.google.com/github/Amibyte/Class-Assignment-1---Getting-Started-with-Python-Programming/blob/master/Q1.ipynb\" target=\"_parent\"><img src=\"https://colab.research.google.com/assets/colab-badge.svg\" alt=\"Open In Colab\"/></a>"
      ]
    },
    {
      "cell_type": "code",
      "metadata": {
        "colab": {
          "base_uri": "https://localhost:8080/"
        },
        "id": "02y3p13GPZhd",
        "outputId": "0407553e-100e-4460-bc16-474b410e577c"
      },
      "source": [
        " class Member:\n",
        "    def __init__(self, name, age, phonenumber, address, salary):\n",
        "        self.name = name\n",
        "        self.age = age\n",
        "        self.phonenumber=phonenumber\n",
        "        self.address=address\n",
        "        self.salary=salary\n",
        "    \n",
        "    def printSalary(self):\n",
        "        print(\"Salary : \",self.salary)\n",
        " \n",
        " \n",
        " \n",
        "class Employee(Member):  # Inheritance\n",
        "    def __init__(self, specialization):\n",
        "        super().__init__(\"Charlie\", 40, 92667894,\"XYZ\",99000)\n",
        "        self.specialization = specialization\n",
        " \n",
        "    def report(self):\n",
        "        print(\"Spetialization : \",self.specialization)\n",
        "        print(\"Name:\", self.name)\n",
        "        print(\"age:\", self.age)\n",
        "        print(\"phone number:\", self.phonenumber)\n",
        "        print(\"Address:\", self.address)\n",
        "        print(\"Salary:\", self.salary)\n",
        " \n",
        " \n",
        "class Manager(Member):  # Inheritance\n",
        "    def __init__(self, department):\n",
        "        super().__init__(\"Amelia\", 50,927798274,\"WTH\",96000)\n",
        "        self.department = department\n",
        " \n",
        "    def report(self):\n",
        "        print(\"Department : \", self.department)\n",
        "        print(\"Name:\", self.name)\n",
        "        print(\"age:\", self.age)\n",
        "        print(\"phone number:\", self.phonenumber)\n",
        "        print(\"Address:\", self.address)\n",
        "        print(\"Salary : \",self.salary)\n",
        " \n",
        " \n",
        "a = Employee(\"Programmer\")\n",
        "print(a.report())\n",
        "b = Manager(\"Human Resources\")\n",
        "print(b.report())"
      ],
      "execution_count": 2,
      "outputs": [
        {
          "output_type": "stream",
          "text": [
            "Spetialization :  Programmer\n",
            "Name: Charlie\n",
            "age: 40\n",
            "phone number: 92667894\n",
            "Address: XYZ\n",
            "Salary: 99000\n",
            "None\n",
            "Department :  Human Resources\n",
            "Name: Amelia\n",
            "age: 50\n",
            "phone number: 927798274\n",
            "Address: WTH\n",
            "Salary :  96000\n",
            "None\n"
          ],
          "name": "stdout"
        }
      ]
    }
  ]
}